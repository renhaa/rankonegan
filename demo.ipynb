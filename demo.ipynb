{
  "nbformat": 4,
  "nbformat_minor": 0,
  "metadata": {
    "colab": {
      "provenance": [],
      "gpuType": "A100",
      "authorship_tag": "ABX9TyMPi6blAkJimOseyW1ptEiz",
      "include_colab_link": true
    },
    "kernelspec": {
      "name": "python3",
      "display_name": "Python 3"
    },
    "language_info": {
      "name": "python"
    },
    "accelerator": "GPU"
  },
  "cells": [
    {
      "cell_type": "markdown",
      "metadata": {
        "id": "view-in-github",
        "colab_type": "text"
      },
      "source": [
        "<a href=\"https://colab.research.google.com/github/renhaa/rankonegan/blob/main/demo.ipynb\" target=\"_parent\"><img src=\"https://colab.research.google.com/assets/colab-badge.svg\" alt=\"Open In Colab\"/></a>"
      ]
    },
    {
      "cell_type": "markdown",
      "source": [
        "# Interactive Demo\n",
        "## Controllable GAN Synthesis Using Non-Rigid Structure-from-Motion\n",
        "[[Project page]](http://itu.dk/~renha/rankonegan-official-beta/docs/)\n",
        "[[Paper]](https://arxiv.org/abs/2211.07195)\n",
        "\n",
        "\n",
        "![teaser](https://raw.githubusercontent.com/renhaa/rankonegan/main/docs/resources/teaser.png)\n",
        "\n"
      ],
      "metadata": {
        "id": "l9B0mKVkQLWH"
      }
    },
    {
      "cell_type": "markdown",
      "source": [
        "# Setup"
      ],
      "metadata": {
        "id": "sVnZk0MzRWMs"
      }
    },
    {
      "cell_type": "code",
      "execution_count": null,
      "metadata": {
        "id": "OeDvNMy6Pomo"
      },
      "outputs": [],
      "source": [
        "!pip install gradio\n",
        "!pip install mediapipe\n",
        "!pip install roma\n",
        "!pip install wget\n",
        "!pip install ninja\n",
        "\n",
        "!git clone https://github.com/renhaa/rankonegan.git\n",
        "%cd rankonegan\n",
        "\n",
        "!mkdir data\n",
        "!mkdir results\n",
        "\n",
        "!wget https://api.ngc.nvidia.com/v2/models/nvidia/research/stylegan2/versions/1/files/stylegan2-ffhq-256x256.pkl\n",
        "!mv *.pkl pretrained_models/\n",
        "\n",
        "!wget http://itu.dk/~renha/rankonegan-official-beta/pretrained_models/model_ir_se50.pth\n",
        "!mv *.pth pretrained_models/\n",
        "\n",
        "!wget http://itu.dk/~renha/rankonegan-official-beta/data/sg2-256-ffhq-50K.pt\n",
        "!mv sg2-256-ffhq-50K.pt data/\n",
        "\n",
        "!wget http://itu.dk/~renha/rankonegan-official-beta/results/sg2-256-ffhq-50K-w-mediapipe.pt\n",
        "!mv sg2-256-ffhq-50K-w-mediapipe.pt results/"
      ]
    },
    {
      "cell_type": "markdown",
      "source": [
        "# Synthesize a single image\n",
        "(to make sure that bias_act_plugin compiles correctly)"
      ],
      "metadata": {
        "id": "LXn-aT2TRaXo"
      }
    },
    {
      "cell_type": "code",
      "source": [
        "from config import create_default_config\n",
        "from main import load_experiment\n",
        "cfg = create_default_config(latent_space = \"w\",\n",
        "                            num_samples = 50000,\n",
        "                            landmark_type = \"mediapipe\",\n",
        "                            sgmodel = \"sg2-256-ffhq\")\n",
        "\n",
        "r1gan, results, data = load_experiment(cfg, redo_r1mfit=False,\n",
        "                                            retrain_model = False)\n",
        "w = r1gan.sg.sample(seed = 5432)\n",
        "r1gan.sg.show(w)"
      ],
      "metadata": {
        "id": "2UoXmz1ZRZm5"
      },
      "execution_count": null,
      "outputs": []
    },
    {
      "cell_type": "markdown",
      "source": [
        "# Start Gradio Demo"
      ],
      "metadata": {
        "id": "9anCGS__Rdsa"
      }
    },
    {
      "cell_type": "code",
      "source": [
        "#@title\n",
        "%run demo.py"
      ],
      "metadata": {
        "colab": {
          "base_uri": "https://localhost:8080/",
          "height": 819
        },
        "cellView": "form",
        "id": "ZJQArgR4Rc77",
        "outputId": "f2812c0e-808f-4495-b502-80509a2d1f76"
      },
      "execution_count": 3,
      "outputs": [
        {
          "output_type": "stream",
          "name": "stdout",
          "text": [
            "Loading pretrained_models/stylegan2-ffhq-256x256.pkl\n",
            "Loading StyleGAN to device cuda\n",
            "[Info] SG original params saved!\n",
            "Loaded data from: data/sg2-256-ffhq-50K.pt\n",
            "Loading results/sg2-256-ffhq-50K-w-mediapipe.pt\n",
            "Nr of parameters 1060884\n",
            "Loading StyleGAN to device cuda\n"
          ]
        },
        {
          "output_type": "stream",
          "name": "stderr",
          "text": [
            "/usr/local/lib/python3.10/dist-packages/torch/_functorch/deprecated.py:58: UserWarning: We've integrated functorch into PyTorch. As the final step of the integration, functorch.vmap is deprecated as of PyTorch 2.0 and will be deleted in a future version of PyTorch >= 2.3. Please use torch.vmap instead; see the PyTorch 2.0 release notes and/or the torch.func migration guide for more details https://pytorch.org/docs/master/func.migrating.html\n",
            "  warn_deprecated('vmap', 'torch.vmap')\n"
          ]
        },
        {
          "output_type": "stream",
          "name": "stdout",
          "text": [
            "[Info] SG original params saved!\n",
            "Loading ResNet ArcFace\n",
            "Colab notebook detected. To show errors in colab notebook, set debug=True in launch()\n",
            "Running on public URL: https://7c06b09d6dcd073956.gradio.live\n",
            "\n",
            "This share link expires in 72 hours. For free permanent hosting and GPU upgrades, run `gradio deploy` from Terminal to deploy to Spaces (https://huggingface.co/spaces)\n"
          ]
        },
        {
          "output_type": "display_data",
          "data": {
            "text/plain": [
              "<IPython.core.display.HTML object>"
            ],
            "text/html": [
              "<div><iframe src=\"https://7c06b09d6dcd073956.gradio.live\" width=\"100%\" height=\"500\" allow=\"autoplay; camera; microphone; clipboard-read; clipboard-write;\" frameborder=\"0\" allowfullscreen></iframe></div>"
            ]
          },
          "metadata": {}
        },
        {
          "output_type": "display_data",
          "data": {
            "text/plain": [
              "<Figure size 640x480 with 0 Axes>"
            ]
          },
          "metadata": {}
        }
      ]
    }
  ]
}